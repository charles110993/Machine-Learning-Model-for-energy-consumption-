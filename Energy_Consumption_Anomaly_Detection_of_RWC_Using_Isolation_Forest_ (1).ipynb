{
  "cells": [
    {
      "cell_type": "code",
      "execution_count": 1,
      "metadata": {
        "id": "eqX3VdC4CQjM"
      },
      "outputs": [],
      "source": [
        "import pandas as pd\n",
        "import matplotlib.pyplot as plt\n",
        "import seaborn as sns\n",
        "from sklearn.ensemble import IsolationForest\n",
        "from sklearn.model_selection import train_test_split\n",
        "from sklearn.preprocessing import StandardScaler\n",
        "from sklearn.metrics import classification_report"
      ]
    },
    {
      "cell_type": "code",
      "execution_count": 2,
      "metadata": {
        "id": "3mrqqYy6H7mf"
      },
      "outputs": [],
      "source": [
        "# Step 2: Load the Dataset\n",
        "data = pd.read_excel('rwc _dataset.xlsx')"
      ]
    },
    {
      "cell_type": "code",
      "execution_count": 3,
      "metadata": {
        "id": "mXlyCKyNDIu1"
      },
      "outputs": [],
      "source": [
        "# Remove the columns that are not relevant for the anomaly detection model\n",
        "data.drop(columns=['Seam number', 'start time (power source time)', 'Jobs'], inplace=True)"
      ]
    },
    {
      "cell_type": "code",
      "execution_count": 4,
      "metadata": {
        "id": "pfoVHbuZDW18"
      },
      "outputs": [],
      "source": [
        "# Data Preprocessing\n",
        "# Handle missing values if any\n",
        "data.dropna(inplace=True)"
      ]
    },
    {
      "cell_type": "code",
      "execution_count": 5,
      "metadata": {
        "id": "iqundtejFj4e"
      },
      "outputs": [],
      "source": [
        "# Split the data into features (X) and target variable (y)\n",
        "X = data.drop(columns=['Energy(E) [KJ]'])\n",
        "y = data['Energy(E) [KJ]']"
      ]
    },
    {
      "cell_type": "code",
      "execution_count": 6,
      "metadata": {
        "id": "I84WNwcXGmOt"
      },
      "outputs": [],
      "source": [
        "# Normalize numerical features using StandardScaler\n",
        "scaler = StandardScaler()\n",
        "X_normalized = scaler.fit_transform(X)"
      ]
    },
    {
      "cell_type": "code",
      "execution_count": 7,
      "metadata": {
        "id": "XQ-uHZJ6G4HF"
      },
      "outputs": [],
      "source": [
        "# Split the data into training and testing sets\n",
        "X_train, X_test, y_train, y_test = train_test_split(X_normalized, y, test_size=0.2, random_state=42)"
      ]
    },
    {
      "cell_type": "code",
      "execution_count": 8,
      "metadata": {
        "colab": {
          "base_uri": "https://localhost:8080/",
          "height": 75
        },
        "id": "dOzFIaKGHRcK",
        "outputId": "a351770d-498b-48c0-b616-6fd8308315e6"
      },
      "outputs": [
        {
          "output_type": "execute_result",
          "data": {
            "text/plain": [
              "IsolationForest(contamination=0.05, random_state=42)"
            ],
            "text/html": [
              "<style>#sk-container-id-1 {color: black;background-color: white;}#sk-container-id-1 pre{padding: 0;}#sk-container-id-1 div.sk-toggleable {background-color: white;}#sk-container-id-1 label.sk-toggleable__label {cursor: pointer;display: block;width: 100%;margin-bottom: 0;padding: 0.3em;box-sizing: border-box;text-align: center;}#sk-container-id-1 label.sk-toggleable__label-arrow:before {content: \"▸\";float: left;margin-right: 0.25em;color: #696969;}#sk-container-id-1 label.sk-toggleable__label-arrow:hover:before {color: black;}#sk-container-id-1 div.sk-estimator:hover label.sk-toggleable__label-arrow:before {color: black;}#sk-container-id-1 div.sk-toggleable__content {max-height: 0;max-width: 0;overflow: hidden;text-align: left;background-color: #f0f8ff;}#sk-container-id-1 div.sk-toggleable__content pre {margin: 0.2em;color: black;border-radius: 0.25em;background-color: #f0f8ff;}#sk-container-id-1 input.sk-toggleable__control:checked~div.sk-toggleable__content {max-height: 200px;max-width: 100%;overflow: auto;}#sk-container-id-1 input.sk-toggleable__control:checked~label.sk-toggleable__label-arrow:before {content: \"▾\";}#sk-container-id-1 div.sk-estimator input.sk-toggleable__control:checked~label.sk-toggleable__label {background-color: #d4ebff;}#sk-container-id-1 div.sk-label input.sk-toggleable__control:checked~label.sk-toggleable__label {background-color: #d4ebff;}#sk-container-id-1 input.sk-hidden--visually {border: 0;clip: rect(1px 1px 1px 1px);clip: rect(1px, 1px, 1px, 1px);height: 1px;margin: -1px;overflow: hidden;padding: 0;position: absolute;width: 1px;}#sk-container-id-1 div.sk-estimator {font-family: monospace;background-color: #f0f8ff;border: 1px dotted black;border-radius: 0.25em;box-sizing: border-box;margin-bottom: 0.5em;}#sk-container-id-1 div.sk-estimator:hover {background-color: #d4ebff;}#sk-container-id-1 div.sk-parallel-item::after {content: \"\";width: 100%;border-bottom: 1px solid gray;flex-grow: 1;}#sk-container-id-1 div.sk-label:hover label.sk-toggleable__label {background-color: #d4ebff;}#sk-container-id-1 div.sk-serial::before {content: \"\";position: absolute;border-left: 1px solid gray;box-sizing: border-box;top: 0;bottom: 0;left: 50%;z-index: 0;}#sk-container-id-1 div.sk-serial {display: flex;flex-direction: column;align-items: center;background-color: white;padding-right: 0.2em;padding-left: 0.2em;position: relative;}#sk-container-id-1 div.sk-item {position: relative;z-index: 1;}#sk-container-id-1 div.sk-parallel {display: flex;align-items: stretch;justify-content: center;background-color: white;position: relative;}#sk-container-id-1 div.sk-item::before, #sk-container-id-1 div.sk-parallel-item::before {content: \"\";position: absolute;border-left: 1px solid gray;box-sizing: border-box;top: 0;bottom: 0;left: 50%;z-index: -1;}#sk-container-id-1 div.sk-parallel-item {display: flex;flex-direction: column;z-index: 1;position: relative;background-color: white;}#sk-container-id-1 div.sk-parallel-item:first-child::after {align-self: flex-end;width: 50%;}#sk-container-id-1 div.sk-parallel-item:last-child::after {align-self: flex-start;width: 50%;}#sk-container-id-1 div.sk-parallel-item:only-child::after {width: 0;}#sk-container-id-1 div.sk-dashed-wrapped {border: 1px dashed gray;margin: 0 0.4em 0.5em 0.4em;box-sizing: border-box;padding-bottom: 0.4em;background-color: white;}#sk-container-id-1 div.sk-label label {font-family: monospace;font-weight: bold;display: inline-block;line-height: 1.2em;}#sk-container-id-1 div.sk-label-container {text-align: center;}#sk-container-id-1 div.sk-container {/* jupyter's `normalize.less` sets `[hidden] { display: none; }` but bootstrap.min.css set `[hidden] { display: none !important; }` so we also need the `!important` here to be able to override the default hidden behavior on the sphinx rendered scikit-learn.org. See: https://github.com/scikit-learn/scikit-learn/issues/21755 */display: inline-block !important;position: relative;}#sk-container-id-1 div.sk-text-repr-fallback {display: none;}</style><div id=\"sk-container-id-1\" class=\"sk-top-container\"><div class=\"sk-text-repr-fallback\"><pre>IsolationForest(contamination=0.05, random_state=42)</pre><b>In a Jupyter environment, please rerun this cell to show the HTML representation or trust the notebook. <br />On GitHub, the HTML representation is unable to render, please try loading this page with nbviewer.org.</b></div><div class=\"sk-container\" hidden><div class=\"sk-item\"><div class=\"sk-estimator sk-toggleable\"><input class=\"sk-toggleable__control sk-hidden--visually\" id=\"sk-estimator-id-1\" type=\"checkbox\" checked><label for=\"sk-estimator-id-1\" class=\"sk-toggleable__label sk-toggleable__label-arrow\">IsolationForest</label><div class=\"sk-toggleable__content\"><pre>IsolationForest(contamination=0.05, random_state=42)</pre></div></div></div></div></div>"
            ]
          },
          "metadata": {},
          "execution_count": 8
        }
      ],
      "source": [
        "# Build the Isolation Forest model\n",
        "# Contamination represents the expected ratio of anomalies\n",
        "model = IsolationForest(contamination=0.05, random_state=42)\n",
        "model.fit(X_train)"
      ]
    },
    {
      "cell_type": "code",
      "execution_count": 9,
      "metadata": {
        "id": "EMTrx08uHY9w"
      },
      "outputs": [],
      "source": [
        "# Predict anomalies on the test set\n",
        "predictions = model.predict(X_test)"
      ]
    },
    {
      "cell_type": "code",
      "execution_count": 10,
      "metadata": {
        "id": "FsxVeWIzKnPd"
      },
      "outputs": [],
      "source": [
        "# Convert X_test back to DataFrame with the appropriate column names\n",
        "X_test_df = pd.DataFrame(X_test, columns=X.columns)"
      ]
    },
    {
      "cell_type": "code",
      "execution_count": 11,
      "metadata": {
        "id": "gh7AjSVpHvIc"
      },
      "outputs": [],
      "source": [
        "# Add the predictions back to the original DataFrame\n",
        "data['Anomaly'] = 1\n",
        "# Set all data as normal (1) initially\n",
        "data.loc[X_test_df.index, 'Anomaly'] = predictions\n",
        "# Assign predicted anomalies for test data"
      ]
    },
    {
      "cell_type": "code",
      "execution_count": 12,
      "metadata": {
        "colab": {
          "base_uri": "https://localhost:8080/",
          "height": 268
        },
        "id": "S6lDKrY7K8Gp",
        "outputId": "80a98cc1-3fe6-4e2c-b334-6bf5dd5d5cde"
      },
      "outputs": [
        {
          "output_type": "display_data",
          "data": {
            "text/plain": [
              "<Figure size 1072.11x250 with 4 Axes>"
            ],
            "image/png": "[encoded data removed]"
          },
          "metadata": {}
        }
      ],
      "source": [
        "# Data Visualization\n",
        "# Scatter plot for features and target variable (Energy)\n",
        "sns.pairplot(data=data, x_vars=['Welding duration [s]', 'Current(I) [A]', 'Voltage(V) [V]', 'Wire Feed Speed(Wfs) [m/min]'], y_vars=['Energy(E) [KJ]'], hue='Anomaly', diag_kind=None)\n",
        "plt.show()"
      ]
    },
    {
      "cell_type": "code",
      "execution_count": 13,
      "metadata": {
        "colab": {
          "base_uri": "https://localhost:8080/",
          "height": 472
        },
        "id": "LrwXBpUJMTpP",
        "outputId": "5c99ca22-2d76-4411-c4c5-81e529abfe12"
      },
      "outputs": [
        {
          "output_type": "display_data",
          "data": {
            "text/plain": [
              "<Figure size 640x480 with 1 Axes>"
            ],
            "image/png": "[encoded data removed]"
          },
          "metadata": {}
        }
      ],
      "source": [
        "# Histogram of anomalies\n",
        "plt.figure()\n",
        "plt.hist(data['Energy(E) [KJ]'][data['Anomaly'] == -1], bins=30, color='red', alpha=0.7)\n",
        "plt.xlabel('Energy(E) [KJ]')\n",
        "plt.ylabel('Frequency')\n",
        "plt.title('Histogram of Anomalies')\n",
        "plt.show()\n"
      ]
    },
    {
      "cell_type": "code",
      "execution_count": 14,
      "metadata": {
        "colab": {
          "base_uri": "https://localhost:8080/"
        },
        "id": "r_vm4cd0NI38",
        "outputId": "9bc46d15-807c-4c3c-c58c-0aef3ef6a76b"
      },
      "outputs": [
        {
          "output_type": "stream",
          "name": "stdout",
          "text": [
            "Root Mean Squared Error (RMSE): 8.878560225859289\n"
          ]
        }
      ],
      "source": [
        "from sklearn.metrics import mean_squared_error\n",
        "\n",
        "# Calculate the RMSE for the anomaly detection model\n",
        "rmse = mean_squared_error(y_test, predictions, squared=False)\n",
        "\n",
        "print(\"Root Mean Squared Error (RMSE):\", rmse)\n"
      ]
    },
    {
      "cell_type": "code",
      "execution_count": 15,
      "metadata": {
        "id": "0H-8gZ6zOB7_"
      },
      "outputs": [],
      "source": [
        "# anomalies is exported to a new CSV file\n",
        "anomalies = data[data['Anomaly'] == -1]\n",
        "anomalies.to_csv('anomalies.csv', index=False)"
      ]
    },
    {
      "cell_type": "code",
      "execution_count": 16,
      "metadata": {
        "colab": {
          "base_uri": "https://localhost:8080/"
        },
        "id": "g8jaSqT9yLIB",
        "outputId": "5a1faf0c-707f-43da-96ac-ad21ab0dda24"
      },
      "outputs": [
        {
          "output_type": "stream",
          "name": "stdout",
          "text": [
            "   Welding duration [s]  Current(I) [A]  Voltage(V) [V]  \\\n",
            "4                   0.6              47             8.7   \n",
            "\n",
            "   Wire Feed Speed(Wfs) [m/min]  Power(P) [W]  Energy(E) [KJ]  Anomaly  \n",
            "4                           2.0         404.1           0.112       -1  \n"
          ]
        }
      ],
      "source": [
        "print(anomalies)"
      ]
    },
    {
      "cell_type": "markdown",
      "metadata": {
        "id": "FTOXLLlqG8D5"
      },
      "source": [
        "Real-time Data collection and preprocessing:"
      ]
    },
    {
      "cell_type": "code",
      "execution_count": 17,
      "metadata": {
        "colab": {
          "base_uri": "https://localhost:8080/"
        },
        "id": "P9Ce2AAV7rne",
        "outputId": "0e0c517c-8013-459e-84f7-3e3c69c6de94"
      },
      "outputs": [
        {
          "output_type": "stream",
          "name": "stdout",
          "text": [
            "Critical anomaly detected!\n",
            "[ 1  1  1 -1]\n",
            "Critical anomaly detected!\n",
            "[ 1  1  1 -1]\n",
            "Critical anomaly detected!\n",
            "[ 1  1  1 -1]\n",
            "Critical anomaly detected!\n",
            "[ 1  1  1 -1]\n",
            "Critical anomaly detected!\n",
            "[ 1  1  1 -1]\n",
            "Critical anomaly detected!\n",
            "[ 1  1  1 -1]\n",
            "Critical anomaly detected!\n",
            "[ 1  1  1 -1]\n",
            "Critical anomaly detected!\n",
            "[ 1  1  1 -1]\n",
            "Critical anomaly detected!\n",
            "[ 1  1  1 -1]\n",
            "Critical anomaly detected!\n",
            "[ 1  1  1 -1]\n",
            "Critical anomaly detected!\n",
            "[ 1  1  1 -1]\n",
            "Critical anomaly detected!\n",
            "[ 1  1  1 -1]\n"
          ]
        }
      ],
      "source": [
        "import pandas as pd\n",
        "import time\n",
        "from sklearn.preprocessing import StandardScaler\n",
        "\n",
        "# Define and initialize the scaler\n",
        "scaler = StandardScaler()\n",
        "\n",
        "# Simulated data collection from the robotic welding cell\n",
        "def collect_data():\n",
        "    # Replacing actual data with collection code from the robotic welding cell\n",
        "    # Let's take random data\n",
        "    data = {\n",
        "       'Welding duration [s]': [10, 12, 11, 15],\n",
        "        'Current(I) [A]': [100, 110, 105, 95],\n",
        "        'Voltage(V) [V]': [220, 230, 215, 210],\n",
        "        'Wire Feed Speed(Wfs) [m/min]': [50, 55, 52, 58],\n",
        "        'Power (P) [W]': [2000, 2100, 2050, 1900]\n",
        "    }\n",
        "    return pd.DataFrame(data)\n",
        "\n",
        "# Data Preprocessing (using the previously defined scaler)\n",
        "def preprocess_data(data):\n",
        "    return scaler.transform(data)\n",
        "\n",
        "# Fit the scaler to some initial data (you can use a representative sample)\n",
        "initial_data = collect_data()\n",
        "scaler.fit(initial_data)\n",
        "\n",
        "# Define the duration for which the loop should run (in seconds)\n",
        "# Run for 60 seconds\n",
        "loop_duration = 60\n",
        "\n",
        "start_time = time.time()\n",
        "while time.time() - start_time < loop_duration:\n",
        "    # Collect data from the robotic welding cell\n",
        "    new_data = collect_data()\n",
        "\n",
        "    # Preprocess the data\n",
        "    preprocessed_data = preprocess_data(new_data)\n",
        "\n",
        "    # Predict anomalies using the model\n",
        "    predictions = model.predict(preprocessed_data)\n",
        "\n",
        "    # Implement automated response for critical anomalies\n",
        "    if any(predictions == -1):\n",
        "        print(\"Critical anomaly detected!\")\n",
        "\n",
        "    # Implement the rest of the real-time monitoring and alerting logic here\n",
        "    # simply print the predictions\n",
        "    print(predictions)\n",
        "\n",
        "    # Wait for some time before collecting the next batch of data\n",
        "    # Simulate real-time updates every 5 seconds\n",
        "    time.sleep(5)\n"
      ]
    },
    {
      "cell_type": "markdown",
      "metadata": {
        "id": "qYQsewUI5Kf3"
      },
      "source": [
        "email alerting system for warning"
      ]
    },
    {
      "cell_type": "code",
      "execution_count": 18,
      "metadata": {
        "id": "DiECovMW1TY8"
      },
      "outputs": [],
      "source": [
        "import smtplib\n",
        "from email.mime.multipart import MIMEMultipart\n",
        "from email.mime.text import MIMEText\n",
        "\n",
        "def send_email_alert(message):\n",
        "    # Email configuration\n",
        "    sender_email = 'bahatic871@gmail.com'\n",
        "    sender_password = '1231231230'\n",
        "    recipient_email = 'bahaticharles203@example.com'\n",
        "\n",
        "    # Create message\n",
        "    msg = MIMEMultipart()\n",
        "    msg['From'] = sender_email\n",
        "    msg['To'] = recipient_email\n",
        "    msg['Subject'] = 'Anomaly Alert'\n",
        "\n",
        "    # Attach message body\n",
        "    msg.attach(MIMEText(message, 'plain'))\n",
        "\n",
        "    # Connect to SMTP server and send email\n",
        "    with smtplib.SMTP('smtp.gmail.com', 587) as server:\n",
        "        server.starttls()\n",
        "        server.login(sender_email, sender_password)\n",
        "        server.sendmail(sender_email, recipient_email, msg.as_string())\n",
        "\n"
      ]
    },
    {
      "cell_type": "code",
      "execution_count": 19,
      "metadata": {
        "id": "YHXTp_KOIFWm",
        "colab": {
          "base_uri": "https://localhost:8080/"
        },
        "outputId": "e094ee76-72a0-4da6-a31b-d820ff8d6140"
      },
      "outputs": [
        {
          "output_type": "stream",
          "name": "stdout",
          "text": [
            "Collecting dash\n",
            "  Downloading dash-2.13.0-py3-none-any.whl (10.4 MB)\n",
            "\u001b[2K     \u001b[90m━━━━━━━━━━━━━━━━━━━━━━━━━━━━━━━━━━━━━━━━\u001b[0m \u001b[32m10.4/10.4 MB\u001b[0m \u001b[31m24.0 MB/s\u001b[0m eta \u001b[36m0:00:00\u001b[0m\n",
            "\u001b[?25hRequirement already satisfied: Flask<2.3.0,>=1.0.4 in /usr/local/lib/python3.10/dist-packages (from dash) (2.2.5)\n",
            "Collecting Werkzeug<2.3.0 (from dash)\n",
            "  Downloading Werkzeug-2.2.3-py3-none-any.whl (233 kB)\n",
            "\u001b[2K     \u001b[90m━━━━━━━━━━━━━━━━━━━━━━━━━━━━━━━━━━━━━━\u001b[0m \u001b[32m233.6/233.6 kB\u001b[0m \u001b[31m23.2 MB/s\u001b[0m eta \u001b[36m0:00:00\u001b[0m\n",
            "\u001b[?25hRequirement already satisfied: plotly>=5.0.0 in /usr/local/lib/python3.10/dist-packages (from dash) (5.15.0)\n",
            "Collecting dash-html-components==2.0.0 (from dash)\n",
            "  Downloading dash_html_components-2.0.0-py3-none-any.whl (4.1 kB)\n",
            "Collecting dash-core-components==2.0.0 (from dash)\n",
            "  Downloading dash_core_components-2.0.0-py3-none-any.whl (3.8 kB)\n",
            "Collecting dash-table==5.0.0 (from dash)\n",
            "  Downloading dash_table-5.0.0-py3-none-any.whl (3.9 kB)\n",
            "Requirement already satisfied: typing-extensions>=4.1.1 in /usr/local/lib/python3.10/dist-packages (from dash) (4.7.1)\n",
            "Requirement already satisfied: requests in /usr/local/lib/python3.10/dist-packages (from dash) (2.31.0)\n",
            "Collecting retrying (from dash)\n",
            "  Downloading retrying-1.3.4-py3-none-any.whl (11 kB)\n",
            "Collecting ansi2html (from dash)\n",
            "  Downloading ansi2html-1.8.0-py3-none-any.whl (16 kB)\n",
            "Requirement already satisfied: nest-asyncio in /usr/local/lib/python3.10/dist-packages (from dash) (1.5.7)\n",
            "Requirement already satisfied: setuptools in /usr/local/lib/python3.10/dist-packages (from dash) (67.7.2)\n",
            "Requirement already satisfied: Jinja2>=3.0 in /usr/local/lib/python3.10/dist-packages (from Flask<2.3.0,>=1.0.4->dash) (3.1.2)\n",
            "Requirement already satisfied: itsdangerous>=2.0 in /usr/local/lib/python3.10/dist-packages (from Flask<2.3.0,>=1.0.4->dash) (2.1.2)\n",
            "Requirement already satisfied: click>=8.0 in /usr/local/lib/python3.10/dist-packages (from Flask<2.3.0,>=1.0.4->dash) (8.1.7)\n",
            "Requirement already satisfied: tenacity>=6.2.0 in /usr/local/lib/python3.10/dist-packages (from plotly>=5.0.0->dash) (8.2.3)\n",
            "Requirement already satisfied: packaging in /usr/local/lib/python3.10/dist-packages (from plotly>=5.0.0->dash) (23.1)\n",
            "Requirement already satisfied: MarkupSafe>=2.1.1 in /usr/local/lib/python3.10/dist-packages (from Werkzeug<2.3.0->dash) (2.1.3)\n",
            "Requirement already satisfied: charset-normalizer<4,>=2 in /usr/local/lib/python3.10/dist-packages (from requests->dash) (3.2.0)\n",
            "Requirement already satisfied: idna<4,>=2.5 in /usr/local/lib/python3.10/dist-packages (from requests->dash) (3.4)\n",
            "Requirement already satisfied: urllib3<3,>=1.21.1 in /usr/local/lib/python3.10/dist-packages (from requests->dash) (2.0.4)\n",
            "Requirement already satisfied: certifi>=2017.4.17 in /usr/local/lib/python3.10/dist-packages (from requests->dash) (2023.7.22)\n",
            "Requirement already satisfied: six>=1.7.0 in /usr/local/lib/python3.10/dist-packages (from retrying->dash) (1.16.0)\n",
            "Installing collected packages: dash-table, dash-html-components, dash-core-components, Werkzeug, retrying, ansi2html, dash\n",
            "  Attempting uninstall: Werkzeug\n",
            "    Found existing installation: Werkzeug 2.3.7\n",
            "    Uninstalling Werkzeug-2.3.7:\n",
            "      Successfully uninstalled Werkzeug-2.3.7\n",
            "Successfully installed Werkzeug-2.2.3 ansi2html-1.8.0 dash-2.13.0 dash-core-components-2.0.0 dash-html-components-2.0.0 dash-table-5.0.0 retrying-1.3.4\n"
          ]
        }
      ],
      "source": [
        "pip install dash\n"
      ]
    },
    {
      "cell_type": "markdown",
      "metadata": {
        "id": "TvmunLLkktFs"
      },
      "source": [
        "Real-time Monitoring and Visualization:"
      ]
    },
    {
      "cell_type": "code",
      "execution_count": 20,
      "metadata": {
        "id": "Wq6UycLZhRrK",
        "colab": {
          "base_uri": "https://localhost:8080/",
          "height": 671
        },
        "outputId": "46ed6eeb-31de-45cb-d6f6-44c59aa2a0f2"
      },
      "outputs": [
        {
          "output_type": "display_data",
          "data": {
            "text/plain": [
              "<IPython.core.display.Javascript object>"
            ],
            "application/javascript": [
              "(async (port, path, width, height, cache, element) => {\n",
              "    if (!google.colab.kernel.accessAllowed && !cache) {\n",
              "      return;\n",
              "    }\n",
              "    element.appendChild(document.createTextNode(''));\n",
              "    const url = await google.colab.kernel.proxyPort(port, {cache});\n",
              "    const iframe = document.createElement('iframe');\n",
              "    iframe.src = new URL(path, url).toString();\n",
              "    iframe.height = height;\n",
              "    iframe.width = width;\n",
              "    iframe.style.border = 0;\n",
              "    iframe.allow = [\n",
              "        'accelerometer',\n",
              "        'autoplay',\n",
              "        'camera',\n",
              "        'clipboard-read',\n",
              "        'clipboard-write',\n",
              "        'gyroscope',\n",
              "        'magnetometer',\n",
              "        'microphone',\n",
              "        'serial',\n",
              "        'usb',\n",
              "        'xr-spatial-tracking',\n",
              "    ].join('; ');\n",
              "    element.appendChild(iframe);\n",
              "  })(8050, \"/\", \"100%\", 650, false, window.element)"
            ]
          },
          "metadata": {}
        }
      ],
      "source": [
        "import dash\n",
        "from dash import dcc, html\n",
        "from dash.dependencies import Output\n",
        "import plotly.express as px\n",
        "import pandas as pd\n",
        "import time\n",
        "from sklearn.preprocessing import StandardScaler\n",
        "\n",
        "\n",
        "# Simulated data collection from the robotic welding cell\n",
        "def collect_data():\n",
        "    # Replace this with actual data collection code from the robotic welding cell\n",
        "    # For this example, let's take random data\n",
        "    data = {\n",
        "        'Welding Duration': [10, 12, 11, 15],\n",
        "        'Energy': [200, 220, 210, 240]  # Simulated energy consumption data\n",
        "    }\n",
        "    return pd.DataFrame(data)\n",
        "\n",
        "# Data Preprocessing (fit the scaler and then transform the data)\n",
        "def preprocess_data(data):\n",
        "    return scaler.transform(data)\n",
        "\n",
        "# Define and initialize the scaler\n",
        "scaler = StandardScaler()\n",
        "\n",
        "# Fit the scaler to some initial data (you can use a representative sample)\n",
        "initial_data = collect_data()\n",
        "scaler.fit(initial_data)\n",
        "\n",
        "app = dash.Dash(__name__)\n",
        "\n",
        "app.layout = html.Div([\n",
        "    dcc.Graph(id='real-time-plot'),\n",
        "    dcc.Interval(\n",
        "        id='interval-component',\n",
        "        interval=5*1000,  # Update every 5 seconds\n",
        "        n_intervals=0\n",
        "    )\n",
        "])\n",
        "\n",
        "@app.callback(Output('real-time-plot', 'figure'),\n",
        "              [dash.dependencies.Input('interval-component', 'n_intervals')])\n",
        "def update_real_time_plot(n):\n",
        "    # Collect data from the robotic welding cell\n",
        "    new_data = collect_data()\n",
        "\n",
        "    # Preprocess the data\n",
        "    preprocessed_data = preprocess_data(new_data)\n",
        "\n",
        "    # Predict anomalies using the model (replace this with your model)\n",
        "    predictions = model.predict(preprocessed_data)\n",
        "\n",
        "    # Visualize the real-time data and anomalies\n",
        "    fig = px.scatter(new_data, x='Welding Duration', y='Energy', color=predictions,\n",
        "                     labels={'Energy': 'Energy Consumption'},\n",
        "                     title='Real-time Energy Consumption and Anomaly Detection')\n",
        "\n",
        "    return fig\n",
        "\n",
        "if __name__ == '__main__':\n",
        "    app.run_server(debug=True)\n"
      ]
    }
  ],
  "metadata": {
    "colab": {
      "provenance": []
    },
    "kernelspec": {
      "display_name": "Python 3",
      "name": "python3"
    },
    "language_info": {
      "name": "python"
    }
  },
  "nbformat": 4,
  "nbformat_minor": 0
}